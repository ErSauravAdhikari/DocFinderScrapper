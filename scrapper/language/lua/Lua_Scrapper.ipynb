{
  "nbformat": 4,
  "nbformat_minor": 0,
  "metadata": {
    "colab": {
      "provenance": []
    },
    "kernelspec": {
      "name": "python3",
      "display_name": "Python 3"
    },
    "language_info": {
      "name": "python"
    }
  },
  "cells": [
    {
      "cell_type": "code",
      "source": [
        "!pip install html5lib"
      ],
      "metadata": {
        "id": "7AUc7uzdyq5X"
      },
      "execution_count": null,
      "outputs": []
    },
    {
      "cell_type": "code",
      "execution_count": null,
      "metadata": {
        "id": "5ILWf5Wxt3H8"
      },
      "outputs": [],
      "source": [
        "# Basic Imports\n",
        "from bs4 import BeautifulSoup, NavigableString, Tag\n",
        "\n",
        "import requests\n",
        "import json, html5lib"
      ]
    },
    {
      "cell_type": "code",
      "source": [
        "docs_url = \"https://www.lua.org/manual/5.4/manual.html\""
      ],
      "metadata": {
        "id": "h_eAPVgVt6AU"
      },
      "execution_count": null,
      "outputs": []
    },
    {
      "cell_type": "code",
      "source": [
        "page = requests.get(docs_url)\n",
        "soup = BeautifulSoup(page.content, \"html5lib\")\n",
        "all_codes = soup.find_all(\"h3\")\n"
      ],
      "metadata": {
        "id": "vgQxISzruBoV"
      },
      "execution_count": null,
      "outputs": []
    },
    {
      "cell_type": "code",
      "source": [
        "lua_docs = []\n",
        "\n",
        "for code in all_codes:\n",
        "  title = code.text.strip()\n",
        "\n",
        "  # There are some contents in h3 tag that are not function references\n",
        "  # One thing common about them is that there is a number at start like: \"4.6 – Functions and Types\"\n",
        "  # Hence we are filtering it like so that, we only get titles that we need\n",
        "  if title[0] >= \"0\" and title[0] <= \"9\":\n",
        "    continue\n",
        "  print(title)\n",
        "\n",
        "  content = \"\"\n",
        "  temp = code\n",
        "  while(temp.next_sibling is not None and temp.next_sibling.name != \"h3\"):\n",
        "    sibling = temp.next_sibling\n",
        "    if not isinstance(sibling, NavigableString):\n",
        "      try:\n",
        "        if sibling.span[\"class\"] == \"apii\":\n",
        "          print(\"APIII\")\n",
        "          pass\n",
        "      except:\n",
        "        content += sibling.prettify()\n",
        "\n",
        "    temp = sibling\n",
        "\n",
        "  lua_docs.append({\n",
        "      \"group\": \"function\",\n",
        "      \"type\": [],\n",
        "      \"name\": title,\n",
        "      \"body\": content,\n",
        "  })"
      ],
      "metadata": {
        "id": "BO_XLorsue01"
      },
      "execution_count": null,
      "outputs": []
    },
    {
      "cell_type": "code",
      "source": [
        "# Writing the dict into a json file\n",
        "json_object = json.dumps(lua_docs, indent=4)\n",
        " \n",
        "with open(\"lua.json\", \"w\") as outfile:\n",
        "    outfile.write(json_object)"
      ],
      "metadata": {
        "id": "a-2MYZa33lKN"
      },
      "execution_count": null,
      "outputs": []
    }
  ]
}