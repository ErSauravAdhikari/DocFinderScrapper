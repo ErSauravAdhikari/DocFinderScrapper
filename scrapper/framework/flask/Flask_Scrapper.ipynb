{
  "nbformat": 4,
  "nbformat_minor": 0,
  "metadata": {
    "colab": {
      "provenance": []
    },
    "kernelspec": {
      "name": "python3",
      "display_name": "Python 3"
    },
    "language_info": {
      "name": "python"
    }
  },
  "cells": [
    {
      "cell_type": "markdown",
      "source": [
        "# **Flask Scrapper**\n",
        "\n",
        "This code was written as a part of hackathon where I (Saurav Adhikari) along with my teammates, participated in the category of Developer tools.\n",
        "\n",
        "Our idea was to create a one stop extension for all the 1st party documentation needs.\n",
        "\n",
        "Hence, in order to power our software we needed to get data from 1st party source.\n",
        "\n",
        "This scrapper was written in response to said need. This is used to create a json object that scrapes the official documentation. "
      ],
      "metadata": {
        "id": "O-UFyg0amk7X"
      }
    },
    {
      "cell_type": "code",
      "execution_count": null,
      "metadata": {
        "id": "9O5VU3H9mNhN"
      },
      "outputs": [],
      "source": [
        "# Basic Imports\n",
        "from bs4 import BeautifulSoup\n",
        "import requests\n",
        "import json"
      ]
    },
    {
      "cell_type": "code",
      "source": [
        "docs_url = \"https://flask.palletsprojects.com/en/2.2.x/api/\""
      ],
      "metadata": {
        "id": "bOHHNsAqmr1h"
      },
      "execution_count": null,
      "outputs": []
    },
    {
      "cell_type": "code",
      "source": [
        "page = requests.get(docs_url)\n",
        "soup = BeautifulSoup(page.content, \"html.parser\")\n",
        "all_codes = soup.find_all(\"dl\", class_=\"py method\")\n",
        "\n",
        "flask_docs = []\n",
        "\n",
        "for code in all_codes:\n",
        "  classParent = code.parent.parent.parent \n",
        "  classId = classParent.get(\"id\")\n",
        "  \n",
        "  parent_name = \"\"\n",
        "  try:\n",
        "    parent_name = classParent.find(\"h2\").text.replace(\"Â¶\", \"\").replace(\"\\u00b6\", \"\")\n",
        "  except:\n",
        "    continue\n",
        "\n",
        "  name = code.find(\"span\", class_=\"sig-name\")\n",
        "\n",
        "  flask_docs.append({\n",
        "      \"group\": parent_name,\n",
        "      \"type\": code.get(\"class\"),\n",
        "      \"name\": name.text,\n",
        "      \"body\": code.prettify().replace(\"Â¶\", \"\"),\n",
        "  })"
      ],
      "metadata": {
        "id": "z1G_KbmtmtVx"
      },
      "execution_count": 6,
      "outputs": []
    },
    {
      "cell_type": "code",
      "source": [
        "json_object = json.dumps(flask_docs, indent=4)\n",
        " \n",
        "# Writing to sample.json\n",
        "with open(\"flask.json\", \"w\") as outfile:\n",
        "    outfile.write(json_object)"
      ],
      "metadata": {
        "id": "RH0xPPignGxN"
      },
      "execution_count": 7,
      "outputs": []
    }
  ]
}