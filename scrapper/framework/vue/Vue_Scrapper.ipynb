{
  "nbformat": 4,
  "nbformat_minor": 0,
  "metadata": {
    "colab": {
      "provenance": []
    },
    "kernelspec": {
      "name": "python3",
      "display_name": "Python 3"
    },
    "language_info": {
      "name": "python"
    }
  },
  "cells": [
    {
      "cell_type": "markdown",
      "source": [
        "# Vue.JS Scrapper\n",
        "\n",
        "This code was written as a part of hackathon where I (Saurav Adhikari) along with my teammates, participated in the category of Developer tools.\n",
        "\n",
        "Our idea was to create a one stop extension for all the 1st party documentation needs.\n",
        "\n",
        "Hence, in order to power our software we needed to get data from 1st party source.\n",
        "\n",
        "This scrapper was written in response to said need. This is used to create a json object that scrapes the official documentation. "
      ],
      "metadata": {
        "id": "AN3vyXCXlYD7"
      }
    },
    {
      "cell_type": "code",
      "source": [
        "# Basic Imports\n",
        "from bs4 import BeautifulSoup\n",
        "import requests\n",
        "import json"
      ],
      "metadata": {
        "id": "IvLc8Wy8lAuk"
      },
      "execution_count": null,
      "outputs": []
    },
    {
      "cell_type": "code",
      "source": [
        "# Define the URLs that we are going to scrape\n",
        "docs_url = [\n",
        "    {   \n",
        "        \"type\": \"Global API\",\n",
        "        \"url\": \"https://vuejs.org/api/application.html\",\n",
        "    },{   \n",
        "        \"type\": \"Global API\",\n",
        "        \"url\": \"https://vuejs.org/api/general.html\",\n",
        "    },{   \n",
        "        \"type\": \"Composition API\",\n",
        "        \"url\": \"https://vuejs.org/api/reactivity-core.html\",\n",
        "    },{   \n",
        "        \"type\": \"Composition API\",\n",
        "        \"url\": \"https://vuejs.org/api/reactivity-utilities.html\",\n",
        "    },{   \n",
        "        \"type\": \"Composition API\",\n",
        "        \"url\": \"https://vuejs.org/api/reactivity-advanced.html\",\n",
        "    },{   \n",
        "        \"type\": \"Composition API\",\n",
        "        \"url\": \"https://vuejs.org/api/composition-api-lifecycle.html\",\n",
        "    },{   \n",
        "        \"type\": \"Composition API\",\n",
        "        \"url\": \"https://vuejs.org/api/composition-api-dependency-injection.html\",\n",
        "    },{   \n",
        "        \"type\": \"Options API\",\n",
        "        \"url\": \"https://vuejs.org/api/options-state.html\",\n",
        "    },{   \n",
        "        \"type\": \"Options API\",\n",
        "        \"url\": \"https://vuejs.org/api/options-rendering.html\",\n",
        "    },{   \n",
        "        \"type\": \"Options API\",\n",
        "        \"url\": \"https://vuejs.org/api/options-lifecycle.html\",\n",
        "    },{   \n",
        "        \"type\": \"Options API\",\n",
        "        \"url\": \"https://vuejs.org/api/options-composition.html\",\n",
        "    },{   \n",
        "        \"type\": \"Options API\",\n",
        "        \"url\": \"https://vuejs.org/api/options-misc.html\",\n",
        "    },{   \n",
        "        \"type\": \"Options API\",\n",
        "        \"url\": \"https://vuejs.org/api/component-instance.html\",\n",
        "    },{   \n",
        "        \"type\": \"Built Ins\",\n",
        "        \"url\": \"https://vuejs.org/api/built-in-directives.html\",\n",
        "    },{   \n",
        "        \"type\": \"Built Ins\",\n",
        "        \"url\": \"https://vuejs.org/api/built-in-components.html\",\n",
        "    },{   \n",
        "        \"type\": \"Built Ins\",\n",
        "        \"url\": \"https://vuejs.org/api/built-in-special-elements.html\",\n",
        "    },{   \n",
        "        \"type\": \"Built Ins\",\n",
        "        \"url\": \"https://vuejs.org/api/built-in-special-attributes.html\",\n",
        "    },{   \n",
        "        \"type\": \"Single-File Component\",\n",
        "        \"url\": \"https://vuejs.org/api/sfc-spec.html\",\n",
        "    },{   \n",
        "        \"type\": \"Single-File Component\",\n",
        "        \"url\": \"https://vuejs.org/api/sfc-script-setup.html\",\n",
        "    },{   \n",
        "        \"type\": \"Single-File Component\",\n",
        "        \"url\": \"https://vuejs.org/api/sfc-css-features.html\",\n",
        "    },{   \n",
        "        \"type\": \"Advanced API\",\n",
        "        \"url\": \"https://vuejs.org/api/render-function.html\",\n",
        "    },{   \n",
        "        \"type\": \"Advanced API\",\n",
        "        \"url\": \"https://vuejs.org/api/ssr.html\",\n",
        "    },{   \n",
        "        \"type\": \"Advanced API\",\n",
        "        \"url\": \"https://vuejs.org/api/utility-types.html\",\n",
        "    },{   \n",
        "        \"type\": \"Advanced API\",\n",
        "        \"url\": \"https://vuejs.org/api/custom-renderer.html\",\n",
        "    }\n",
        "]"
      ],
      "metadata": {
        "id": "ZVD_L6AFlBtV"
      },
      "execution_count": null,
      "outputs": []
    },
    {
      "cell_type": "code",
      "source": [
        "# Defining global variables\n",
        "vue_docs = []"
      ],
      "metadata": {
        "id": "OxzgLL8TlBwT"
      },
      "execution_count": null,
      "outputs": []
    },
    {
      "cell_type": "code",
      "source": [
        "# The code that is acutally scraping\n",
        "for url in docs_url:\n",
        "  page = requests.get(url[\"url\"])\n",
        "  soup = BeautifulSoup(page.content, \"html.parser\")\n",
        "  all_codes = soup.find(\"div\", class_=\"api\").find_all(\"h2\")\n",
        "\n",
        "  group = soup.find(\"div\", class_=\"api\").find(\"h1\").text.replace(\"#\", \"\").strip()\n",
        "\n",
        "  for code in all_codes:\n",
        "    title = code.text.replace(\"#\", \"\").strip()\n",
        "    content = \"\"\n",
        "    temp = code\n",
        "    while(temp.next_sibling is not None and temp.next_sibling.name != \"h2\"):\n",
        "      content += temp.next_sibling.prettify()\n",
        "      temp = temp.next_sibling\n",
        "\n",
        "    dict_val = {\n",
        "        \"group\": group,\n",
        "        \"type\": [url['type']],\n",
        "        \"name\": title,\n",
        "        \"body\": content\n",
        "    }\n",
        "\n",
        "    vue_docs.append(dict_val)\n",
        "    print(\"Completed: \", title)"
      ],
      "metadata": {
        "id": "48Q8u-8slBzt"
      },
      "execution_count": null,
      "outputs": []
    },
    {
      "cell_type": "code",
      "execution_count": 11,
      "metadata": {
        "id": "h5bVrR52hiRi"
      },
      "outputs": [],
      "source": [
        "# Writing the dict into a json file\n",
        "json_object = json.dumps(vue_docs, indent=4)\n",
        " \n",
        "with open(\"vue.json\", \"w\") as outfile:\n",
        "    outfile.write(json_object)"
      ]
    }
  ]
}